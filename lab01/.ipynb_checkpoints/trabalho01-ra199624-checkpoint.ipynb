{
 "cells": [
  {
   "cell_type": "code",
   "execution_count": 1,
   "metadata": {},
   "outputs": [],
   "source": [
    "import cv2 \n",
    "import numpy as np\n",
    "import matplotlib.pyplot as mpl \n",
    "from matplotlib import cm"
   ]
  },
  {
   "cell_type": "code",
   "execution_count": 2,
   "metadata": {},
   "outputs": [],
   "source": [
    "#Primeiramente, foi realizado uma função apenas para ver o efeito do método de Floyd e Steinberg para analisar \n",
    "#os efeitos desse tipo de abordagem em uma imagem lida com tons de cinza."
   ]
  },
  {
   "cell_type": "code",
   "execution_count": 3,
   "metadata": {},
   "outputs": [],
   "source": [
    "def FloydSteinberg(f):\n",
    "    height, width = f.shape\n",
    "    g = np.ones((height, width), dtype = \"float32\")\n",
    "    f = cv2.normalize(f, None, alpha=0, beta=1, norm_type= cv2.NORM_MINMAX, dtype= cv2.CV_32F)\n",
    "    for y in range(0, height - 1):\n",
    "        for x in range(1, width - 1):\n",
    "            if f[y, x] < 0.5:\n",
    "                g[y, x] = 0\n",
    "            else:\n",
    "                g[y, x] = 1\n",
    "            erro = f[y, x] - g[y, x]\n",
    "            f[y, x+1] = f[y, x+1] + (7/16)*erro \n",
    "            f[y+1, x-1] = f[y+1, x-1] + (3/16)*erro\n",
    "            f[y+1, x] = f[y+1, x] + (5/16)*erro\n",
    "            f[y+1, x+1] =  f[y+1, x+1] + (1/16)*erro\n",
    "    return np.uint8(g)\n"
   ]
  },
  {
   "cell_type": "code",
   "execution_count": 4,
   "metadata": {},
   "outputs": [],
   "source": [
    "img = cv2.imread(\"baboon.png\", 0) \n",
    "im2 = FloydSteinberg(img)\n",
    "cv2.imshow(\"baboon\", im2*255)\n",
    "\n",
    "cv2.waitKey(0)\n",
    "cv2.destroyAllWindows()\n"
   ]
  },
  {
   "cell_type": "code",
   "execution_count": 5,
   "metadata": {},
   "outputs": [],
   "source": [
    "#Então em seguida, foi adotado um sentido diferente ao linear, dessa vez passando em sentido alternado \n",
    "#pelas linhas da imagem "
   ]
  },
  {
   "cell_type": "code",
   "execution_count": 6,
   "metadata": {},
   "outputs": [],
   "source": [
    "\n",
    "def FloydSteinbergsentido(f):\n",
    "    height, width= f.shape\n",
    "    g = np.ones((height, width), dtype = \"float32\")\n",
    "    f = cv2.normalize(f, None, alpha=0, beta=1, norm_type= cv2.NORM_MINMAX, dtype= cv2.CV_32F)\n",
    "    for x in range(1, width - 1):\n",
    "        if x&1:\n",
    "            for y in range(0, height - 1):          \n",
    "                if f[y, x] < 0.5:\n",
    "                    g[y, x] = 0\n",
    "                else:\n",
    "                    g[y, x] = 1\n",
    "                erro = f[ y, x] - g[ y, x]\n",
    "                f[y+1, x] = f[y+1, x] + (7/16)*erro \n",
    "                f[y-1, x+1] = f[y-1, x+1] + (3/16)*erro\n",
    "                f[y, x+1] = f[y, x+1] + (5/16)*erro\n",
    "                f[y+1, x+1] =  f[y+1, x+1] + (1/16)*erro\n",
    "        else:\n",
    "            for y in range(height - 2, 0, -1):\n",
    "                if f[y, x] < 0.5:\n",
    "                    g[y, x] = 0\n",
    "                else:\n",
    "                    g[y, x] = 1\n",
    "                erro = f[y, x] - g[y, x]\n",
    "                f[y-1, x] = f[y-1, x] + (7/16)*erro \n",
    "                f[y-1, x+1] = f[y-1, x+1] + (1/16)*erro\n",
    "                f[y, x+1] = f[y, x+1] + (5/16)*erro\n",
    "                f[y+1, x+1] =  f[y+1, x+1] + (3/16)*erro\n",
    "    return np.uint8(g)\n",
    "\n",
    "\n"
   ]
  },
  {
   "cell_type": "code",
   "execution_count": 7,
   "metadata": {},
   "outputs": [],
   "source": [
    "img = cv2.imread(\"baboon.png\", 0) \n",
    "im2 = FloydSteinbergsentido(img)\n",
    "cv2.imshow(\"baboon\", im2*255)\n",
    "\n",
    "cv2.waitKey(0)\n",
    "cv2.destroyAllWindows()\n"
   ]
  },
  {
   "cell_type": "code",
   "execution_count": 8,
   "metadata": {},
   "outputs": [],
   "source": [
    "def FloydSteinbergcolor(f):\n",
    "    height, width, channels = f.shape\n",
    "    g = np.ones((height, width, channels), dtype = \"float32\")\n",
    "    f = cv2.normalize(f, None, alpha=0, beta=1, norm_type= cv2.NORM_MINMAX, dtype= cv2.CV_32F)\n",
    "    \n",
    "    for z in range(channels):\n",
    "        for x in range(1, width - 1):\n",
    "            if x&1:\n",
    "                for y in range(0, height - 1):          \n",
    "                    if f[y, x, z] < 0.5:\n",
    "                        g[y, x, z] = 0\n",
    "                    else:\n",
    "                        g[y, x, z] = 1\n",
    "                    erro = f[ y, x, z] - g[ y, x, z]\n",
    "                    f[y+1, x,  z] = f[y+1, x, z] + (7/16)*erro \n",
    "                    f[y-1, x+1,  z] = f[y-1, x+1, z] + (3/16)*erro\n",
    "                    f[y, x+1, z] = f[y, x+1, z] + (5/16)*erro\n",
    "                    f[y+1, x+1, z] =  f[y+1, x+1, z] + (1/16)*erro\n",
    "            else:\n",
    "                for y in range(height - 2, 0, -1):\n",
    "                    if f[y, x, z] < 0.5:\n",
    "                        g[y, x, z] = 0\n",
    "                    else:\n",
    "                        g[y, x, z] = 1\n",
    "                    erro = f[y, x, z] - g[y, x, z]\n",
    "                    f[y-1, x, z] = f[y-1, x, z] + (7/16)*erro \n",
    "                    f[y-1, x+1, z] = f[y-1, x+1, z] + (1/16)*erro\n",
    "                    f[y, x+1, z] = f[y, x+1, z] + (5/16)*erro\n",
    "                    f[y+1, x+1,  z] =  f[y+1, x+1, z] + (3/16)*erro\n",
    "    return np.uint8(g)"
   ]
  },
  {
   "cell_type": "code",
   "execution_count": 10,
   "metadata": {},
   "outputs": [],
   "source": [
    "img = cv2.imread(\"baboon.png\") \n",
    "im2 = FloydSteinbergcolor(img)\n",
    "cv2.imshow(\"baboon\", im2*255)\n",
    "\n",
    "cv2.waitKey(0)\n",
    "cv2.destroyAllWindows()"
   ]
  },
  {
   "cell_type": "code",
   "execution_count": null,
   "metadata": {},
   "outputs": [],
   "source": [
    "def FloydSteinberg(f):\n",
    "    height, width = f.shape\n",
    "    g = np.ones((height, width), dtype = \"float32\")\n",
    "    f = cv2.normalize(f, None, alpha=0, beta=1, norm_type= cv2.NORM_MINMAX, dtype= cv2.CV_32F)\n",
    "    for y in range(0, height - 1):\n",
    "        for x in range(1, width - 1):\n",
    "            if f[y, x] < 0.5:\n",
    "                g[y, x] = 0\n",
    "            else:\n",
    "                g[y, x] = 1\n",
    "            erro = f[y, x] - g[y, x]\n",
    "            f[y, x+1] = f[y, x+1] + (7/16)*erro \n",
    "            f[y+1, x-1] = f[y+1, x-1] + (3/16)*erro\n",
    "            f[y+1, x] = f[y+1, x] + (5/16)*erro\n",
    "            f[y+1, x+1] =  f[y+1, x+1] + (1/16)*erro\n",
    "    return np.uint8(g)\n"
   ]
  },
  {
   "cell_type": "code",
   "execution_count": null,
   "metadata": {},
   "outputs": [],
   "source": [
    "img = cv2.imread(\"baboon.png\", 0) \n",
    "im2 = FloydSteinberg(img)\n",
    "cv2.imshow(\"baboon\", im2*255)\n",
    "\n",
    "cv2.waitKey(0)\n",
    "cv2.destroyAllWindows()\n"
   ]
  }
 ],
 "metadata": {
  "kernelspec": {
   "display_name": "Python 3",
   "language": "python",
   "name": "python3"
  },
  "language_info": {
   "codemirror_mode": {
    "name": "ipython",
    "version": 3
   },
   "file_extension": ".py",
   "mimetype": "text/x-python",
   "name": "python",
   "nbconvert_exporter": "python",
   "pygments_lexer": "ipython3",
   "version": "3.5.2"
  }
 },
 "nbformat": 4,
 "nbformat_minor": 2
}
